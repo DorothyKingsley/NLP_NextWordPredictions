{
 "cells": [
  {
   "cell_type": "code",
   "execution_count": 1,
   "metadata": {},
   "outputs": [],
   "source": [
    "from nltk.corpus import reuters\n",
    "from nltk import bigrams, trigrams\n",
    "from collections import Counter, defaultdict"
   ]
  },
  {
   "cell_type": "code",
   "execution_count": 2,
   "metadata": {},
   "outputs": [],
   "source": [
    "# Create a placeholder for model\n",
    "model = defaultdict(lambda: defaultdict(lambda: 0))"
   ]
  },
  {
   "cell_type": "code",
   "execution_count": 3,
   "metadata": {},
   "outputs": [],
   "source": [
    "# Count frequency of co-occurance  \n",
    "for sentence in reuters.sents():\n",
    "    for w1, w2, w3 in trigrams(sentence, pad_right=True, pad_left=True):\n",
    "        model[(w1, w2)][w3] += 1"
   ]
  },
  {
   "cell_type": "code",
   "execution_count": 4,
   "metadata": {},
   "outputs": [],
   "source": [
    "# Let's transform the counts to probabilities\n",
    "for w1_w2 in model:\n",
    "    total_count = float(sum(model[w1_w2].values()))\n",
    "    for w3 in model[w1_w2]:\n",
    "        model[w1_w2][w3] /= total_count"
   ]
  },
  {
   "cell_type": "code",
   "execution_count": 5,
   "metadata": {},
   "outputs": [
    {
     "name": "stdout",
     "output_type": "stream",
     "text": [
      "today the company ' s board and conditioned on final audit , a Finance Ministry sources said .\n"
     ]
    }
   ],
   "source": [
    "import random\n",
    "\n",
    "# starting words\n",
    "text = [\"today\", \"the\"]\n",
    "sentence_finished = False\n",
    " \n",
    "while not sentence_finished:\n",
    "  # select a random probability threshold  \n",
    "  r = random.random()\n",
    "  accumulator = .0\n",
    "\n",
    "  for word in model[tuple(text[-2:])].keys():\n",
    "      accumulator += model[tuple(text[-2:])][word]\n",
    "      # select words that are above the probability threshold\n",
    "      if accumulator >= r:\n",
    "          text.append(word)\n",
    "          break\n",
    "\n",
    "  if text[-2:] == [None, None]:\n",
    "      sentence_finished = True\n",
    " \n",
    "print (' '.join([t for t in text if t]))"
   ]
  },
  {
   "cell_type": "code",
   "execution_count": 6,
   "metadata": {},
   "outputs": [],
   "source": [
    "import numpy as np\n",
    "import pandas as pd\n",
    "from tensorflow.keras.utils import to_categorical\n",
    "from tensorflow.keras.preprocessing.sequence import pad_sequences\n",
    "from tensorflow.keras.models import Sequential\n",
    "from tensorflow.keras.layers import LSTM, Dense, GRU, Embedding\n",
    "from tensorflow.keras.callbacks import EarlyStopping, ModelCheckpoint"
   ]
  },
  {
   "cell_type": "code",
   "execution_count": 7,
   "metadata": {},
   "outputs": [],
   "source": [
    "data_text = \"\"\"The unanimous Declaration of the thirteen united States of America, When in the Course of human events, it becomes necessary for one people to dissolve the political bands which have connected them with another, and to assume among the powers of the earth, the separate and equal station to which the Laws of Nature and of Nature's God entitle them, a decent respect to the opinions of mankind requires that they should declare the causes which impel them to the separation.\n",
    "We hold these truths to be self-evident, that all men are created equal, that they are endowed by their Creator with certain unalienable Rights, that among these are Life, Liberty and the pursuit of Happiness.--That to secure these rights, Governments are instituted among Men, deriving their just powers from the consent of the governed, --That whenever any Form of Government becomes destructive of these ends, it is the Right of the People to alter or to abolish it, and to institute new Government, laying its foundation on such principles and organizing its powers in such form, as to them shall seem most likely to effect their Safety and Happiness. Prudence, indeed, will dictate that Governments long established should not be changed for light and transient causes; and accordingly all experience hath shewn, that mankind are more disposed to suffer, while evils are sufferable, than to right themselves by abolishing the forms to which they are accustomed. But when a long train of abuses and usurpations, pursuing invariably the same Object evinces a design to reduce them under absolute Despotism, it is their right, it is their duty, to throw off such Government, and to provide new Guards for their future security.--Such has been the patient sufferance of these Colonies; and such is now the necessity which constrains them to alter their former Systems of Government. The history of the present King of Great Britain is a history of repeated injuries and usurpations, all having in direct object the establishment of an absolute Tyranny over these States. To prove this, let Facts be submitted to a candid world.\n",
    "He has refused his Assent to Laws, the most wholesome and necessary for the public good.\n",
    "He has forbidden his Governors to pass Laws of immediate and pressing importance, unless suspended in their operation till his Assent should be obtained; and when so suspended, he has utterly neglected to attend to them.\n",
    "He has refused to pass other Laws for the accommodation of large districts of people, unless those people would relinquish the right of Representation in the Legislature, a right inestimable to them and formidable to tyrants only.\n",
    "He has called together legislative bodies at places unusual, uncomfortable, and distant from the depository of their public Records, for the sole purpose of fatiguing them into compliance with his measures.\n",
    "He has dissolved Representative Houses repeatedly, for opposing with manly firmness his invasions on the rights of the people.\n",
    "He has refused for a long time, after such dissolutions, to cause others to be elected; whereby the Legislative powers, incapable of Annihilation, have returned to the People at large for their exercise; the State remaining in the mean time exposed to all the dangers of invasion from without, and convulsions within.\n",
    "He has endeavoured to prevent the population of these States; for that purpose obstructing the Laws for Naturalization of Foreigners; refusing to pass others to encourage their migrations hither, and raising the conditions of new Appropriations of Lands.\n",
    "He has obstructed the Administration of Justice, by refusing his Assent to Laws for establishing Judiciary powers.\n",
    "He has made Judges dependent on his Will alone, for the tenure of their offices, and the amount and payment of their salaries.\n",
    "He has erected a multitude of New Offices, and sent hither swarms of Officers to harrass our people, and eat out their substance.\n",
    "He has kept among us, in times of peace, Standing Armies without the Consent of our legislatures.\n",
    "He has affected to render the Military independent of and superior to the Civil power.\n",
    "He has combined with others to subject us to a jurisdiction foreign to our constitution, and unacknowledged by our laws; giving his Assent to their Acts of pretended Legislation:\n",
    "For Quartering large bodies of armed troops among us:\n",
    "For protecting them, by a mock Trial, from punishment for any Murders which they should commit on the Inhabitants of these States:\n",
    "For cutting off our Trade with all parts of the world:\n",
    "For imposing Taxes on us without our Consent:\n",
    "For depriving us in many cases, of the benefits of Trial by Jury:\n",
    "For transporting us beyond Seas to be tried for pretended offences\n",
    "For abolishing the free System of English Laws in a neighbouring Province, establishing therein an Arbitrary government, and enlarging its Boundaries so as to render it at once an example and fit instrument for introducing the same absolute rule into these Colonies:\n",
    "For taking away our Charters, abolishing our most valuable Laws, and altering fundamentally the Forms of our Governments:\n",
    "For suspending our own Legislatures, and declaring themselves invested with power to legislate for us in all cases whatsoever.\n",
    "He has abdicated Government here, by declaring us out of his Protection and waging War against us.\n",
    "He has plundered our seas, ravaged our Coasts, burnt our towns, and destroyed the lives of our people.\n",
    "He is at this time transporting large Armies of foreign Mercenaries to compleat the works of death, desolation and tyranny, already begun with circumstances of Cruelty & perfidy scarcely paralleled in the most barbarous ages, and totally unworthy the Head of a civilized nation.\n",
    "He has constrained our fellow Citizens taken Captive on the high Seas to bear Arms against their Country, to become the executioners of their friends and Brethren, or to fall themselves by their Hands.\n",
    "He has excited domestic insurrections amongst us, and has endeavoured to bring on the inhabitants of our frontiers, the merciless Indian Savages, whose known rule of warfare, is an undistinguished destruction of all ages, sexes and conditions.\n",
    "In every stage of these Oppressions We have Petitioned for Redress in the most humble terms: Our repeated Petitions have been answered only by repeated injury. A Prince whose character is thus marked by every act which may define a Tyrant, is unfit to be the ruler of a free people.\n",
    "Nor have We been wanting in attentions to our Brittish brethren. We have warned them from time to time of attempts by their legislature to extend an unwarrantable jurisdiction over us. We have reminded them of the circumstances of our emigration and settlement here. We have appealed to their native justice and magnanimity, and we have conjured them by the ties of our common kindred to disavow these usurpations, which, would inevitably interrupt our connections and correspondence. They too have been deaf to the voice of justice and of consanguinity. We must, therefore, acquiesce in the necessity, which denounces our Separation, and hold them, as we hold the rest of mankind, Enemies in War, in Peace Friends.\n",
    "We, therefore, the Representatives of the united States of America, in General Congress, Assembled, appealing to the Supreme Judge of the world for the rectitude of our intentions, do, in the Name, and by Authority of the good People of these Colonies, solemnly publish and declare, That these United Colonies are, and of Right ought to be Free and Independent States; that they are Absolved from all Allegiance to the British Crown, and that all political connection between them and the State of Great Britain, is and ought to be totally dissolved; and that as Free and Independent States, they have full Power to levy War, conclude Peace, contract Alliances, establish Commerce, and to do all other Acts and Things which Independent States may of right do. And for the support of this Declaration, with a firm reliance on the protection of divine Providence, we mutually pledge to each other our Lives, our Fortunes and our sacred Honor.\"\"\""
   ]
  },
  {
   "cell_type": "code",
   "execution_count": 8,
   "metadata": {},
   "outputs": [],
   "source": [
    "import re\n",
    "\n",
    "def text_cleaner(text):\n",
    "    # lower case text\n",
    "    newString = text.lower()\n",
    "    newString = re.sub(r\"'s\\b\",\"\",newString)\n",
    "    # remove punctuations\n",
    "    newString = re.sub(\"[^a-zA-Z]\", \" \", newString) \n",
    "    long_words=[]\n",
    "    # remove short word\n",
    "    for i in newString.split():\n",
    "        if len(i)>=3:                  \n",
    "            long_words.append(i)\n",
    "    return (\" \".join(long_words)).strip()"
   ]
  },
  {
   "cell_type": "code",
   "execution_count": 9,
   "metadata": {},
   "outputs": [],
   "source": [
    "# preprocess the text\n",
    "data_new = text_cleaner(data_text)"
   ]
  },
  {
   "cell_type": "code",
   "execution_count": 10,
   "metadata": {},
   "outputs": [],
   "source": [
    "def create_seq(text):\n",
    "    length = 30\n",
    "    sequences = list()\n",
    "    for i in range(length, len(text)):\n",
    "        # select sequence of tokens\n",
    "        seq = text[i-length:i+1]\n",
    "        # store\n",
    "        sequences.append(seq)\n",
    "    print('Total Sequences: %d' % len(sequences))\n",
    "    return sequences"
   ]
  },
  {
   "cell_type": "code",
   "execution_count": 11,
   "metadata": {},
   "outputs": [
    {
     "name": "stdout",
     "output_type": "stream",
     "text": [
      "Total Sequences: 7052\n"
     ]
    }
   ],
   "source": [
    "# create sequences   \n",
    "sequences = create_seq(data_new)"
   ]
  },
  {
   "cell_type": "code",
   "execution_count": 12,
   "metadata": {},
   "outputs": [],
   "source": [
    "# create a character mapping index\n",
    "chars = sorted(list(set(data_new)))\n",
    "mapping = dict((c, i) for i, c in enumerate(chars))"
   ]
  },
  {
   "cell_type": "code",
   "execution_count": 13,
   "metadata": {},
   "outputs": [],
   "source": [
    "def encode_seq(seq):\n",
    "    sequences = list()\n",
    "    for line in seq:\n",
    "        # integer encode line\n",
    "        encoded_seq = [mapping[char] for char in line]\n",
    "        # store\n",
    "        sequences.append(encoded_seq)\n",
    "    return sequences"
   ]
  },
  {
   "cell_type": "code",
   "execution_count": 14,
   "metadata": {},
   "outputs": [],
   "source": [
    "# encode the sequences\n",
    "sequences = encode_seq(sequences)"
   ]
  },
  {
   "cell_type": "code",
   "execution_count": 15,
   "metadata": {},
   "outputs": [
    {
     "name": "stdout",
     "output_type": "stream",
     "text": [
      "Train shape: (6346, 30) Val shape: (706, 30)\n"
     ]
    }
   ],
   "source": [
    "from sklearn.model_selection import train_test_split\n",
    "\n",
    "# vocabulary size\n",
    "vocab = len(mapping)\n",
    "sequences = np.array(sequences)\n",
    "# create X and y\n",
    "X, y = sequences[:,:-1], sequences[:,-1]\n",
    "# one hot encode y\n",
    "y = to_categorical(y, num_classes=vocab)\n",
    "# create train and validation sets\n",
    "X_tr, X_val, y_tr, y_val = train_test_split(X, y, test_size=0.1, random_state=42)\n",
    "\n",
    "print('Train shape:', X_tr.shape, 'Val shape:', X_val.shape)"
   ]
  },
  {
   "cell_type": "code",
   "execution_count": 16,
   "metadata": {},
   "outputs": [
    {
     "name": "stdout",
     "output_type": "stream",
     "text": [
      "Model: \"sequential\"\n",
      "_________________________________________________________________\n",
      "Layer (type)                 Output Shape              Param #   \n",
      "=================================================================\n",
      "embedding (Embedding)        (None, 30, 50)            1350      \n",
      "_________________________________________________________________\n",
      "gru (GRU)                    (None, 150)               90900     \n",
      "_________________________________________________________________\n",
      "dense (Dense)                (None, 27)                4077      \n",
      "=================================================================\n",
      "Total params: 96,327\n",
      "Trainable params: 96,327\n",
      "Non-trainable params: 0\n",
      "_________________________________________________________________\n",
      "None\n",
      "Train on 6346 samples, validate on 706 samples\n",
      "Epoch 1/100\n",
      "6346/6346 - 24s - loss: 2.7646 - acc: 0.2034 - val_loss: 2.4390 - val_acc: 0.2946\n",
      "Epoch 2/100\n",
      "6346/6346 - 26s - loss: 2.3201 - acc: 0.3199 - val_loss: 2.2743 - val_acc: 0.3414\n",
      "Epoch 3/100\n",
      "6346/6346 - 21s - loss: 2.1929 - acc: 0.3445 - val_loss: 2.1873 - val_acc: 0.3541\n",
      "Epoch 4/100\n",
      "6346/6346 - 26s - loss: 2.0913 - acc: 0.3744 - val_loss: 2.1229 - val_acc: 0.3824\n",
      "Epoch 5/100\n",
      "6346/6346 - 21s - loss: 2.0033 - acc: 0.3977 - val_loss: 2.0539 - val_acc: 0.4051\n",
      "Epoch 6/100\n",
      "6346/6346 - 25s - loss: 1.9148 - acc: 0.4277 - val_loss: 2.0021 - val_acc: 0.4193\n",
      "Epoch 7/100\n",
      "6346/6346 - 22s - loss: 1.8356 - acc: 0.4396 - val_loss: 1.9847 - val_acc: 0.4263\n",
      "Epoch 8/100\n",
      "6346/6346 - 22s - loss: 1.7651 - acc: 0.4593 - val_loss: 1.9298 - val_acc: 0.4589\n",
      "Epoch 9/100\n",
      "6346/6346 - 23s - loss: 1.6935 - acc: 0.4876 - val_loss: 1.9193 - val_acc: 0.4561\n",
      "Epoch 10/100\n",
      "6346/6346 - 23s - loss: 1.6222 - acc: 0.5084 - val_loss: 1.8836 - val_acc: 0.4717\n",
      "Epoch 11/100\n",
      "6346/6346 - 23s - loss: 1.5470 - acc: 0.5298 - val_loss: 1.8862 - val_acc: 0.4816\n",
      "Epoch 12/100\n",
      "6346/6346 - 22s - loss: 1.4809 - acc: 0.5515 - val_loss: 1.8588 - val_acc: 0.4873\n",
      "Epoch 13/100\n",
      "6346/6346 - 23s - loss: 1.4181 - acc: 0.5676 - val_loss: 1.8623 - val_acc: 0.4873\n",
      "Epoch 14/100\n",
      "6346/6346 - 24s - loss: 1.3630 - acc: 0.5804 - val_loss: 1.8554 - val_acc: 0.4929\n",
      "Epoch 15/100\n",
      "6346/6346 - 23s - loss: 1.2912 - acc: 0.6049 - val_loss: 1.8609 - val_acc: 0.4858\n",
      "Epoch 16/100\n",
      "6346/6346 - 23s - loss: 1.2568 - acc: 0.6125 - val_loss: 1.8734 - val_acc: 0.4958\n",
      "Epoch 17/100\n",
      "6346/6346 - 23s - loss: 1.1942 - acc: 0.6363 - val_loss: 1.8832 - val_acc: 0.4958\n",
      "Epoch 18/100\n",
      "6346/6346 - 23s - loss: 1.1500 - acc: 0.6453 - val_loss: 1.8999 - val_acc: 0.4873\n",
      "Epoch 19/100\n",
      "6346/6346 - 23s - loss: 1.0973 - acc: 0.6593 - val_loss: 1.8839 - val_acc: 0.4929\n",
      "Epoch 20/100\n",
      "6346/6346 - 23s - loss: 1.0593 - acc: 0.6705 - val_loss: 1.8958 - val_acc: 0.4873\n",
      "Epoch 21/100\n",
      "6346/6346 - 23s - loss: 1.0081 - acc: 0.6874 - val_loss: 1.9114 - val_acc: 0.4887\n",
      "Epoch 22/100\n",
      "6346/6346 - 23s - loss: 0.9747 - acc: 0.6910 - val_loss: 1.9383 - val_acc: 0.4887\n",
      "Epoch 23/100\n",
      "6346/6346 - 25s - loss: 0.9397 - acc: 0.7074 - val_loss: 1.9488 - val_acc: 0.5057\n",
      "Epoch 24/100\n",
      "6346/6346 - 24s - loss: 0.9139 - acc: 0.7099 - val_loss: 1.9780 - val_acc: 0.4943\n",
      "Epoch 25/100\n",
      "6346/6346 - 30s - loss: 0.8740 - acc: 0.7294 - val_loss: 1.9891 - val_acc: 0.4915\n",
      "Epoch 26/100\n",
      "6346/6346 - 21s - loss: 0.8524 - acc: 0.7305 - val_loss: 2.0177 - val_acc: 0.5028\n",
      "Epoch 27/100\n",
      "6346/6346 - 21s - loss: 0.8193 - acc: 0.7379 - val_loss: 2.0116 - val_acc: 0.4986\n",
      "Epoch 28/100\n",
      "6346/6346 - 31s - loss: 0.7980 - acc: 0.7431 - val_loss: 2.0354 - val_acc: 0.4958\n",
      "Epoch 29/100\n",
      "6346/6346 - 28s - loss: 0.7781 - acc: 0.7562 - val_loss: 2.0573 - val_acc: 0.4972\n",
      "Epoch 30/100\n",
      "6346/6346 - 24s - loss: 0.7454 - acc: 0.7624 - val_loss: 2.0728 - val_acc: 0.4901\n",
      "Epoch 31/100\n",
      "6346/6346 - 25s - loss: 0.7123 - acc: 0.7715 - val_loss: 2.0944 - val_acc: 0.4972\n",
      "Epoch 32/100\n",
      "6346/6346 - 30s - loss: 0.7151 - acc: 0.7628 - val_loss: 2.1077 - val_acc: 0.4844\n",
      "Epoch 33/100\n",
      "6346/6346 - 25s - loss: 0.6880 - acc: 0.7816 - val_loss: 2.1493 - val_acc: 0.5042\n",
      "Epoch 34/100\n",
      "6346/6346 - 23s - loss: 0.6598 - acc: 0.7917 - val_loss: 2.1602 - val_acc: 0.5014\n",
      "Epoch 35/100\n",
      "6346/6346 - 22s - loss: 0.6497 - acc: 0.7903 - val_loss: 2.1852 - val_acc: 0.5000\n",
      "Epoch 36/100\n",
      "6346/6346 - 21s - loss: 0.6364 - acc: 0.7981 - val_loss: 2.1940 - val_acc: 0.5127\n",
      "Epoch 37/100\n",
      "6346/6346 - 21s - loss: 0.6106 - acc: 0.8022 - val_loss: 2.2057 - val_acc: 0.5028\n",
      "Epoch 38/100\n",
      "6346/6346 - 21s - loss: 0.6076 - acc: 0.8084 - val_loss: 2.2537 - val_acc: 0.4943\n",
      "Epoch 39/100\n",
      "6346/6346 - 21s - loss: 0.5985 - acc: 0.8073 - val_loss: 2.2546 - val_acc: 0.5028\n",
      "Epoch 40/100\n",
      "6346/6346 - 21s - loss: 0.5885 - acc: 0.8115 - val_loss: 2.2913 - val_acc: 0.4858\n",
      "Epoch 41/100\n",
      "6346/6346 - 23s - loss: 0.5738 - acc: 0.8125 - val_loss: 2.3056 - val_acc: 0.5014\n",
      "Epoch 42/100\n",
      "6346/6346 - 24s - loss: 0.5589 - acc: 0.8194 - val_loss: 2.3109 - val_acc: 0.4915\n",
      "Epoch 43/100\n",
      "6346/6346 - 22s - loss: 0.5480 - acc: 0.8208 - val_loss: 2.3167 - val_acc: 0.4887\n",
      "Epoch 44/100\n",
      "6346/6346 - 22s - loss: 0.5297 - acc: 0.8352 - val_loss: 2.3272 - val_acc: 0.4958\n",
      "Epoch 45/100\n",
      "6346/6346 - 22s - loss: 0.5287 - acc: 0.8267 - val_loss: 2.3995 - val_acc: 0.4788\n",
      "Epoch 46/100\n",
      "6346/6346 - 22s - loss: 0.5168 - acc: 0.8334 - val_loss: 2.3877 - val_acc: 0.4901\n",
      "Epoch 47/100\n",
      "6346/6346 - 24s - loss: 0.5333 - acc: 0.8211 - val_loss: 2.3960 - val_acc: 0.4830\n",
      "Epoch 48/100\n",
      "6346/6346 - 27s - loss: 0.4879 - acc: 0.8408 - val_loss: 2.4231 - val_acc: 0.4858\n",
      "Epoch 49/100\n",
      "6346/6346 - 24s - loss: 0.4910 - acc: 0.8412 - val_loss: 2.4401 - val_acc: 0.4873\n",
      "Epoch 50/100\n",
      "6346/6346 - 22s - loss: 0.4788 - acc: 0.8471 - val_loss: 2.4415 - val_acc: 0.4972\n",
      "Epoch 51/100\n",
      "6346/6346 - 28s - loss: 0.4891 - acc: 0.8358 - val_loss: 2.4523 - val_acc: 0.4844\n",
      "Epoch 52/100\n",
      "6346/6346 - 25s - loss: 0.4781 - acc: 0.8424 - val_loss: 2.4905 - val_acc: 0.4901\n",
      "Epoch 53/100\n",
      "6346/6346 - 24s - loss: 0.4700 - acc: 0.8523 - val_loss: 2.5298 - val_acc: 0.4958\n",
      "Epoch 54/100\n",
      "6346/6346 - 38s - loss: 0.4529 - acc: 0.8512 - val_loss: 2.5381 - val_acc: 0.5085\n",
      "Epoch 55/100\n",
      "6346/6346 - 30s - loss: 0.4440 - acc: 0.8539 - val_loss: 2.5479 - val_acc: 0.4773\n",
      "Epoch 56/100\n",
      "6346/6346 - 22s - loss: 0.4520 - acc: 0.8527 - val_loss: 2.5608 - val_acc: 0.4929\n",
      "Epoch 57/100\n",
      "6346/6346 - 22s - loss: 0.4409 - acc: 0.8542 - val_loss: 2.5940 - val_acc: 0.4887\n",
      "Epoch 58/100\n",
      "6346/6346 - 22s - loss: 0.4470 - acc: 0.8561 - val_loss: 2.5931 - val_acc: 0.4972\n",
      "Epoch 59/100\n",
      "6346/6346 - 22s - loss: 0.4374 - acc: 0.8535 - val_loss: 2.6153 - val_acc: 0.5057\n",
      "Epoch 60/100\n",
      "6346/6346 - 22s - loss: 0.4370 - acc: 0.8560 - val_loss: 2.6183 - val_acc: 0.4929\n",
      "Epoch 61/100\n",
      "6346/6346 - 22s - loss: 0.4279 - acc: 0.8557 - val_loss: 2.6223 - val_acc: 0.4887\n",
      "Epoch 62/100\n",
      "6346/6346 - 22s - loss: 0.4198 - acc: 0.8632 - val_loss: 2.6532 - val_acc: 0.4943\n",
      "Epoch 63/100\n",
      "6346/6346 - 22s - loss: 0.4178 - acc: 0.8615 - val_loss: 2.6913 - val_acc: 0.4943\n",
      "Epoch 64/100\n",
      "6346/6346 - 22s - loss: 0.4133 - acc: 0.8643 - val_loss: 2.6617 - val_acc: 0.4972\n",
      "Epoch 65/100\n",
      "6346/6346 - 23s - loss: 0.3928 - acc: 0.8681 - val_loss: 2.6859 - val_acc: 0.4986\n",
      "Epoch 66/100\n",
      "6346/6346 - 22s - loss: 0.4033 - acc: 0.8697 - val_loss: 2.7064 - val_acc: 0.4915\n",
      "Epoch 67/100\n",
      "6346/6346 - 22s - loss: 0.4108 - acc: 0.8650 - val_loss: 2.7259 - val_acc: 0.4887\n",
      "Epoch 68/100\n",
      "6346/6346 - 22s - loss: 0.3893 - acc: 0.8725 - val_loss: 2.7338 - val_acc: 0.4788\n",
      "Epoch 69/100\n",
      "6346/6346 - 22s - loss: 0.3865 - acc: 0.8765 - val_loss: 2.7569 - val_acc: 0.4802\n",
      "Epoch 70/100\n",
      "6346/6346 - 22s - loss: 0.3879 - acc: 0.8716 - val_loss: 2.7433 - val_acc: 0.4830\n",
      "Epoch 71/100\n",
      "6346/6346 - 22s - loss: 0.3819 - acc: 0.8722 - val_loss: 2.7552 - val_acc: 0.4858\n",
      "Epoch 72/100\n",
      "6346/6346 - 22s - loss: 0.3776 - acc: 0.8755 - val_loss: 2.7726 - val_acc: 0.4858\n",
      "Epoch 73/100\n",
      "6346/6346 - 22s - loss: 0.3691 - acc: 0.8787 - val_loss: 2.7824 - val_acc: 0.4873\n",
      "Epoch 74/100\n",
      "6346/6346 - 22s - loss: 0.3854 - acc: 0.8700 - val_loss: 2.7560 - val_acc: 0.4901\n",
      "Epoch 75/100\n",
      "6346/6346 - 22s - loss: 0.3692 - acc: 0.8812 - val_loss: 2.7955 - val_acc: 0.4929\n",
      "Epoch 76/100\n",
      "6346/6346 - 22s - loss: 0.3709 - acc: 0.8760 - val_loss: 2.8355 - val_acc: 0.4816\n",
      "Epoch 77/100\n",
      "6346/6346 - 21s - loss: 0.3686 - acc: 0.8779 - val_loss: 2.8217 - val_acc: 0.4773\n",
      "Epoch 78/100\n",
      "6346/6346 - 22s - loss: 0.3505 - acc: 0.8817 - val_loss: 2.8071 - val_acc: 0.4802\n"
     ]
    },
    {
     "name": "stdout",
     "output_type": "stream",
     "text": [
      "Epoch 79/100\n",
      "6346/6346 - 21s - loss: 0.3704 - acc: 0.8772 - val_loss: 2.8432 - val_acc: 0.4943\n",
      "Epoch 80/100\n",
      "6346/6346 - 21s - loss: 0.3538 - acc: 0.8817 - val_loss: 2.8306 - val_acc: 0.4915\n",
      "Epoch 81/100\n",
      "6346/6346 - 22s - loss: 0.3563 - acc: 0.8834 - val_loss: 2.8209 - val_acc: 0.4887\n",
      "Epoch 82/100\n",
      "6346/6346 - 21s - loss: 0.3611 - acc: 0.8823 - val_loss: 2.8317 - val_acc: 0.4830\n",
      "Epoch 83/100\n",
      "6346/6346 - 23s - loss: 0.3508 - acc: 0.8842 - val_loss: 2.8416 - val_acc: 0.4901\n",
      "Epoch 84/100\n",
      "6346/6346 - 22s - loss: 0.3463 - acc: 0.8862 - val_loss: 2.9057 - val_acc: 0.4915\n",
      "Epoch 85/100\n",
      "6346/6346 - 29s - loss: 0.3437 - acc: 0.8859 - val_loss: 2.8941 - val_acc: 0.4887\n",
      "Epoch 86/100\n",
      "6346/6346 - 20s - loss: 0.3424 - acc: 0.8843 - val_loss: 2.9223 - val_acc: 0.4887\n",
      "Epoch 87/100\n",
      "6346/6346 - 20s - loss: 0.3386 - acc: 0.8910 - val_loss: 2.9167 - val_acc: 0.4887\n",
      "Epoch 88/100\n",
      "6346/6346 - 20s - loss: 0.3278 - acc: 0.8939 - val_loss: 2.9103 - val_acc: 0.4830\n",
      "Epoch 89/100\n",
      "6346/6346 - 20s - loss: 0.3333 - acc: 0.8875 - val_loss: 2.9479 - val_acc: 0.4816\n",
      "Epoch 90/100\n",
      "6346/6346 - 21s - loss: 0.3441 - acc: 0.8843 - val_loss: 2.9387 - val_acc: 0.4844\n",
      "Epoch 91/100\n",
      "6346/6346 - 21s - loss: 0.3464 - acc: 0.8851 - val_loss: 2.9671 - val_acc: 0.4901\n",
      "Epoch 92/100\n",
      "6346/6346 - 21s - loss: 0.3298 - acc: 0.8939 - val_loss: 2.9708 - val_acc: 0.4731\n",
      "Epoch 93/100\n",
      "6346/6346 - 21s - loss: 0.3375 - acc: 0.8873 - val_loss: 2.9760 - val_acc: 0.4887\n",
      "Epoch 94/100\n",
      "6346/6346 - 21s - loss: 0.3307 - acc: 0.8889 - val_loss: 3.0012 - val_acc: 0.4816\n",
      "Epoch 95/100\n",
      "6346/6346 - 21s - loss: 0.3308 - acc: 0.8889 - val_loss: 3.0094 - val_acc: 0.4745\n",
      "Epoch 96/100\n",
      "6346/6346 - 21s - loss: 0.3200 - acc: 0.8946 - val_loss: 3.0381 - val_acc: 0.4858\n",
      "Epoch 97/100\n",
      "6346/6346 - 21s - loss: 0.3160 - acc: 0.8927 - val_loss: 3.0098 - val_acc: 0.4929\n",
      "Epoch 98/100\n",
      "6346/6346 - 21s - loss: 0.3104 - acc: 0.8933 - val_loss: 3.0395 - val_acc: 0.4858\n",
      "Epoch 99/100\n",
      "6346/6346 - 21s - loss: 0.3190 - acc: 0.8939 - val_loss: 3.0558 - val_acc: 0.4773\n",
      "Epoch 100/100\n",
      "6346/6346 - 21s - loss: 0.3317 - acc: 0.8913 - val_loss: 3.0645 - val_acc: 0.4943\n"
     ]
    },
    {
     "data": {
      "text/plain": [
       "<tensorflow.python.keras.callbacks.History at 0x1a297bd8d0>"
      ]
     },
     "execution_count": 16,
     "metadata": {},
     "output_type": "execute_result"
    }
   ],
   "source": [
    "# define model\n",
    "model = Sequential()\n",
    "model.add(Embedding(vocab, 50, input_length=30, trainable=True))\n",
    "model.add(GRU(150, recurrent_dropout=0.1, dropout=0.1))\n",
    "model.add(Dense(vocab, activation='softmax'))\n",
    "print(model.summary())\n",
    "\n",
    "# compile the model\n",
    "model.compile(loss='categorical_crossentropy', metrics=['acc'], optimizer='adam')\n",
    "# fit the model\n",
    "model.fit(X_tr, y_tr, epochs=100, verbose=2, validation_data=(X_val, y_val))"
   ]
  },
  {
   "cell_type": "code",
   "execution_count": 17,
   "metadata": {},
   "outputs": [],
   "source": [
    "# generate a sequence of characters with a language model\n",
    "def generate_seq(model, mapping, seq_length, seed_text, n_chars):\n",
    "    in_text = seed_text\n",
    "    # generate a fixed number of characters\n",
    "    for _ in range(n_chars):\n",
    "        # encode the characters as integers\n",
    "        encoded = [mapping[char] for char in in_text]\n",
    "        # truncate sequences to a fixed length\n",
    "        encoded = pad_sequences([encoded], maxlen=seq_length, truncating='pre')\n",
    "        # predict character\n",
    "        yhat = model.predict_classes(encoded, verbose=0)\n",
    "        # reverse map integer to character\n",
    "        out_char = ''\n",
    "        for char, index in mapping.items():\n",
    "            if index == yhat:\n",
    "                out_char = char\n",
    "                break\n",
    "        # append to input\n",
    "        in_text += char\n",
    "    return in_text"
   ]
  },
  {
   "cell_type": "code",
   "execution_count": 22,
   "metadata": {},
   "outputs": [
    {
     "name": "stdout",
     "output_type": "stream",
     "text": [
      "can you have been answe\n"
     ]
    }
   ],
   "source": [
    "inp = 'Can you '\n",
    "#print(len(inp))\n",
    "print(generate_seq(model, mapping, 30, inp.lower(),15))"
   ]
  },
  {
   "cell_type": "code",
   "execution_count": 28,
   "metadata": {},
   "outputs": [
    {
     "name": "stdout",
     "output_type": "stream",
     "text": [
      "Collecting pytorch-transformers\n",
      "  Using cached https://files.pythonhosted.org/packages/a3/b7/d3d18008a67e0b968d1ab93ad444fc05699403fa662f634b2f2c318a508b/pytorch_transformers-1.2.0-py3-none-any.whl\n",
      "Requirement already satisfied: numpy in /opt/anaconda3/lib/python3.7/site-packages (from pytorch-transformers) (1.17.2)\n",
      "Requirement already satisfied: boto3 in /opt/anaconda3/lib/python3.7/site-packages (from pytorch-transformers) (1.11.0)\n",
      "Collecting regex (from pytorch-transformers)\n",
      "  Using cached https://files.pythonhosted.org/packages/4c/e7/eee73c42c1193fecc0e91361a163cbb8dfbea62c3db7618ad986e5b43a14/regex-2020.4.4.tar.gz\n",
      "Requirement already satisfied: sentencepiece in /opt/anaconda3/lib/python3.7/site-packages (from pytorch-transformers) (0.1.85)\n",
      "Requirement already satisfied: requests in /opt/anaconda3/lib/python3.7/site-packages (from pytorch-transformers) (2.22.0)\n",
      "Collecting sacremoses (from pytorch-transformers)\n",
      "Requirement already satisfied: torch>=1.0.0 in /opt/anaconda3/lib/python3.7/site-packages (from pytorch-transformers) (1.5.0)\n",
      "Requirement already satisfied: tqdm in /opt/anaconda3/lib/python3.7/site-packages (from pytorch-transformers) (4.43.0)\n",
      "Requirement already satisfied: botocore<1.15.0,>=1.14.0 in /opt/anaconda3/lib/python3.7/site-packages (from boto3->pytorch-transformers) (1.14.0)\n",
      "Requirement already satisfied: s3transfer<0.4.0,>=0.3.0 in /opt/anaconda3/lib/python3.7/site-packages (from boto3->pytorch-transformers) (0.3.0)\n",
      "Requirement already satisfied: jmespath<1.0.0,>=0.7.1 in /opt/anaconda3/lib/python3.7/site-packages (from boto3->pytorch-transformers) (0.9.4)\n",
      "Requirement already satisfied: idna<2.9,>=2.5 in /opt/anaconda3/lib/python3.7/site-packages (from requests->pytorch-transformers) (2.8)\n",
      "Requirement already satisfied: chardet<3.1.0,>=3.0.2 in /opt/anaconda3/lib/python3.7/site-packages (from requests->pytorch-transformers) (3.0.4)\n",
      "Requirement already satisfied: certifi>=2017.4.17 in /opt/anaconda3/lib/python3.7/site-packages (from requests->pytorch-transformers) (2019.9.11)\n",
      "Requirement already satisfied: urllib3!=1.25.0,!=1.25.1,<1.26,>=1.21.1 in /opt/anaconda3/lib/python3.7/site-packages (from requests->pytorch-transformers) (1.24.2)\n",
      "Requirement already satisfied: click in /opt/anaconda3/lib/python3.7/site-packages (from sacremoses->pytorch-transformers) (7.0)\n",
      "Requirement already satisfied: six in /opt/anaconda3/lib/python3.7/site-packages (from sacremoses->pytorch-transformers) (1.12.0)\n",
      "Requirement already satisfied: joblib in /opt/anaconda3/lib/python3.7/site-packages (from sacremoses->pytorch-transformers) (0.13.2)\n",
      "Requirement already satisfied: future in /opt/anaconda3/lib/python3.7/site-packages (from torch>=1.0.0->pytorch-transformers) (0.17.1)\n",
      "Requirement already satisfied: docutils<0.16,>=0.10 in /opt/anaconda3/lib/python3.7/site-packages (from botocore<1.15.0,>=1.14.0->boto3->pytorch-transformers) (0.15.2)\n",
      "Requirement already satisfied: python-dateutil<3.0.0,>=2.1 in /opt/anaconda3/lib/python3.7/site-packages (from botocore<1.15.0,>=1.14.0->boto3->pytorch-transformers) (2.8.0)\n",
      "Building wheels for collected packages: regex\n",
      "  Building wheel for regex (setup.py) ... \u001b[?25lerror\n",
      "\u001b[31m  ERROR: Command errored out with exit status 1:\n",
      "   command: /opt/anaconda3/bin/python -u -c 'import sys, setuptools, tokenize; sys.argv[0] = '\"'\"'/private/var/folders/k8/zgmsxxx573b7mbh3cyrqh0hc0000gn/T/pip-install-fn6zdfv3/regex/setup.py'\"'\"'; __file__='\"'\"'/private/var/folders/k8/zgmsxxx573b7mbh3cyrqh0hc0000gn/T/pip-install-fn6zdfv3/regex/setup.py'\"'\"';f=getattr(tokenize, '\"'\"'open'\"'\"', open)(__file__);code=f.read().replace('\"'\"'\\r\\n'\"'\"', '\"'\"'\\n'\"'\"');f.close();exec(compile(code, __file__, '\"'\"'exec'\"'\"'))' bdist_wheel -d /private/var/folders/k8/zgmsxxx573b7mbh3cyrqh0hc0000gn/T/pip-wheel-iygt4g7_ --python-tag cp37\n",
      "       cwd: /private/var/folders/k8/zgmsxxx573b7mbh3cyrqh0hc0000gn/T/pip-install-fn6zdfv3/regex/\n",
      "  Complete output (17 lines):\n",
      "  running bdist_wheel\n",
      "  running build\n",
      "  running build_py\n",
      "  creating build\n",
      "  creating build/lib.macosx-10.9-x86_64-3.7\n",
      "  creating build/lib.macosx-10.9-x86_64-3.7/regex\n",
      "  copying regex_3/__init__.py -> build/lib.macosx-10.9-x86_64-3.7/regex\n",
      "  copying regex_3/regex.py -> build/lib.macosx-10.9-x86_64-3.7/regex\n",
      "  copying regex_3/_regex_core.py -> build/lib.macosx-10.9-x86_64-3.7/regex\n",
      "  copying regex_3/test_regex.py -> build/lib.macosx-10.9-x86_64-3.7/regex\n",
      "  running build_ext\n",
      "  building 'regex._regex' extension\n",
      "  creating build/temp.macosx-10.9-x86_64-3.7\n",
      "  creating build/temp.macosx-10.9-x86_64-3.7/regex_3\n",
      "  gcc -Wno-unused-result -Wsign-compare -Wunreachable-code -DNDEBUG -g -fwrapv -O3 -Wall -Wstrict-prototypes -I/opt/anaconda3/include -arch x86_64 -I/opt/anaconda3/include -arch x86_64 -I/opt/anaconda3/include/python3.7m -c regex_3/_regex.c -o build/temp.macosx-10.9-x86_64-3.7/regex_3/_regex.o\n",
      "  xcrun: error: invalid active developer path (/Library/Developer/CommandLineTools), missing xcrun at: /Library/Developer/CommandLineTools/usr/bin/xcrun\n",
      "  error: command 'gcc' failed with exit status 1\n",
      "  ----------------------------------------\u001b[0m\n",
      "\u001b[31m  ERROR: Failed building wheel for regex\u001b[0m\n",
      "\u001b[?25h  Running setup.py clean for regex\n",
      "Failed to build regex\n",
      "Installing collected packages: regex, sacremoses, pytorch-transformers\n",
      "  Running setup.py install for regex ... \u001b[?25lerror\n",
      "\u001b[31m    ERROR: Command errored out with exit status 1:\n",
      "     command: /opt/anaconda3/bin/python -u -c 'import sys, setuptools, tokenize; sys.argv[0] = '\"'\"'/private/var/folders/k8/zgmsxxx573b7mbh3cyrqh0hc0000gn/T/pip-install-fn6zdfv3/regex/setup.py'\"'\"'; __file__='\"'\"'/private/var/folders/k8/zgmsxxx573b7mbh3cyrqh0hc0000gn/T/pip-install-fn6zdfv3/regex/setup.py'\"'\"';f=getattr(tokenize, '\"'\"'open'\"'\"', open)(__file__);code=f.read().replace('\"'\"'\\r\\n'\"'\"', '\"'\"'\\n'\"'\"');f.close();exec(compile(code, __file__, '\"'\"'exec'\"'\"'))' install --record /private/var/folders/k8/zgmsxxx573b7mbh3cyrqh0hc0000gn/T/pip-record-xkhqqgnv/install-record.txt --single-version-externally-managed --compile\n",
      "         cwd: /private/var/folders/k8/zgmsxxx573b7mbh3cyrqh0hc0000gn/T/pip-install-fn6zdfv3/regex/\n",
      "    Complete output (17 lines):\n",
      "    running install\n",
      "    running build\n",
      "    running build_py\n",
      "    creating build\n",
      "    creating build/lib.macosx-10.9-x86_64-3.7\n",
      "    creating build/lib.macosx-10.9-x86_64-3.7/regex\n",
      "    copying regex_3/__init__.py -> build/lib.macosx-10.9-x86_64-3.7/regex\n",
      "    copying regex_3/regex.py -> build/lib.macosx-10.9-x86_64-3.7/regex\n",
      "    copying regex_3/_regex_core.py -> build/lib.macosx-10.9-x86_64-3.7/regex\n",
      "    copying regex_3/test_regex.py -> build/lib.macosx-10.9-x86_64-3.7/regex\n",
      "    running build_ext\n",
      "    building 'regex._regex' extension\n",
      "    creating build/temp.macosx-10.9-x86_64-3.7\n",
      "    creating build/temp.macosx-10.9-x86_64-3.7/regex_3\n",
      "    gcc -Wno-unused-result -Wsign-compare -Wunreachable-code -DNDEBUG -g -fwrapv -O3 -Wall -Wstrict-prototypes -I/opt/anaconda3/include -arch x86_64 -I/opt/anaconda3/include -arch x86_64 -I/opt/anaconda3/include/python3.7m -c regex_3/_regex.c -o build/temp.macosx-10.9-x86_64-3.7/regex_3/_regex.o\n",
      "    xcrun: error: invalid active developer path (/Library/Developer/CommandLineTools), missing xcrun at: /Library/Developer/CommandLineTools/usr/bin/xcrun\n",
      "    error: command 'gcc' failed with exit status 1\n",
      "    ----------------------------------------\u001b[0m\n",
      "\u001b[31mERROR: Command errored out with exit status 1: /opt/anaconda3/bin/python -u -c 'import sys, setuptools, tokenize; sys.argv[0] = '\"'\"'/private/var/folders/k8/zgmsxxx573b7mbh3cyrqh0hc0000gn/T/pip-install-fn6zdfv3/regex/setup.py'\"'\"'; __file__='\"'\"'/private/var/folders/k8/zgmsxxx573b7mbh3cyrqh0hc0000gn/T/pip-install-fn6zdfv3/regex/setup.py'\"'\"';f=getattr(tokenize, '\"'\"'open'\"'\"', open)(__file__);code=f.read().replace('\"'\"'\\r\\n'\"'\"', '\"'\"'\\n'\"'\"');f.close();exec(compile(code, __file__, '\"'\"'exec'\"'\"'))' install --record /private/var/folders/k8/zgmsxxx573b7mbh3cyrqh0hc0000gn/T/pip-record-xkhqqgnv/install-record.txt --single-version-externally-managed --compile Check the logs for full command output.\u001b[0m\n",
      "\u001b[?25h"
     ]
    }
   ],
   "source": []
  },
  {
   "cell_type": "code",
   "execution_count": 29,
   "metadata": {},
   "outputs": [
    {
     "name": "stdout",
     "output_type": "stream",
     "text": [
      "Requirement already satisfied: torch in /opt/anaconda3/lib/python3.7/site-packages (1.5.0)\r\n",
      "Requirement already satisfied: future in /opt/anaconda3/lib/python3.7/site-packages (from torch) (0.17.1)\r\n",
      "Requirement already satisfied: numpy in /opt/anaconda3/lib/python3.7/site-packages (from torch) (1.17.2)\r\n"
     ]
    }
   ],
   "source": [
    "!pip install torch"
   ]
  },
  {
   "cell_type": "code",
   "execution_count": 38,
   "metadata": {
    "scrolled": false
   },
   "outputs": [
    {
     "name": "stdout",
     "output_type": "stream",
     "text": [
      "Collecting pytorch_transformers\n",
      "  Using cached https://files.pythonhosted.org/packages/a3/b7/d3d18008a67e0b968d1ab93ad444fc05699403fa662f634b2f2c318a508b/pytorch_transformers-1.2.0-py3-none-any.whl\n",
      "Requirement already satisfied: tqdm in /opt/anaconda3/lib/python3.7/site-packages (from pytorch_transformers) (4.43.0)\n",
      "Collecting sacremoses (from pytorch_transformers)\n",
      "Requirement already satisfied: regex in /opt/anaconda3/lib/python3.7/site-packages (from pytorch_transformers) (2020.4.4)\n",
      "Requirement already satisfied: torch>=1.0.0 in /opt/anaconda3/lib/python3.7/site-packages (from pytorch_transformers) (1.5.0)\n",
      "Requirement already satisfied: requests in /opt/anaconda3/lib/python3.7/site-packages (from pytorch_transformers) (2.22.0)\n",
      "Requirement already satisfied: numpy in /opt/anaconda3/lib/python3.7/site-packages (from pytorch_transformers) (1.17.2)\n",
      "Requirement already satisfied: sentencepiece in /opt/anaconda3/lib/python3.7/site-packages (from pytorch_transformers) (0.1.85)\n",
      "Requirement already satisfied: boto3 in /opt/anaconda3/lib/python3.7/site-packages (from pytorch_transformers) (1.11.0)\n",
      "Requirement already satisfied: joblib in /opt/anaconda3/lib/python3.7/site-packages (from sacremoses->pytorch_transformers) (0.13.2)\n",
      "Requirement already satisfied: six in /opt/anaconda3/lib/python3.7/site-packages (from sacremoses->pytorch_transformers) (1.12.0)\n",
      "Requirement already satisfied: click in /opt/anaconda3/lib/python3.7/site-packages (from sacremoses->pytorch_transformers) (7.0)\n",
      "Requirement already satisfied: future in /opt/anaconda3/lib/python3.7/site-packages (from torch>=1.0.0->pytorch_transformers) (0.17.1)\n",
      "Requirement already satisfied: certifi>=2017.4.17 in /opt/anaconda3/lib/python3.7/site-packages (from requests->pytorch_transformers) (2019.9.11)\n",
      "Requirement already satisfied: urllib3!=1.25.0,!=1.25.1,<1.26,>=1.21.1 in /opt/anaconda3/lib/python3.7/site-packages (from requests->pytorch_transformers) (1.24.2)\n",
      "Requirement already satisfied: idna<2.9,>=2.5 in /opt/anaconda3/lib/python3.7/site-packages (from requests->pytorch_transformers) (2.8)\n",
      "Requirement already satisfied: chardet<3.1.0,>=3.0.2 in /opt/anaconda3/lib/python3.7/site-packages (from requests->pytorch_transformers) (3.0.4)\n",
      "Requirement already satisfied: s3transfer<0.4.0,>=0.3.0 in /opt/anaconda3/lib/python3.7/site-packages (from boto3->pytorch_transformers) (0.3.0)\n",
      "Requirement already satisfied: botocore<1.15.0,>=1.14.0 in /opt/anaconda3/lib/python3.7/site-packages (from boto3->pytorch_transformers) (1.14.0)\n",
      "Requirement already satisfied: jmespath<1.0.0,>=0.7.1 in /opt/anaconda3/lib/python3.7/site-packages (from boto3->pytorch_transformers) (0.9.4)\n",
      "Requirement already satisfied: docutils<0.16,>=0.10 in /opt/anaconda3/lib/python3.7/site-packages (from botocore<1.15.0,>=1.14.0->boto3->pytorch_transformers) (0.15.2)\n",
      "Requirement already satisfied: python-dateutil<3.0.0,>=2.1 in /opt/anaconda3/lib/python3.7/site-packages (from botocore<1.15.0,>=1.14.0->boto3->pytorch_transformers) (2.8.0)\n",
      "Installing collected packages: sacremoses, pytorch-transformers\n",
      "Successfully installed pytorch-transformers-1.2.0 sacremoses-0.0.41\n"
     ]
    }
   ],
   "source": [
    "!pip install pytorch_transformers"
   ]
  },
  {
   "cell_type": "code",
   "execution_count": 39,
   "metadata": {},
   "outputs": [],
   "source": [
    "import torch\n",
    "from pytorch_transformers import GPT2Tokenizer, GPT2LMHeadModel"
   ]
  },
  {
   "cell_type": "code",
   "execution_count": 40,
   "metadata": {},
   "outputs": [
    {
     "name": "stderr",
     "output_type": "stream",
     "text": [
      "100%|██████████| 1042301/1042301 [00:00<00:00, 1466346.47B/s]\n",
      "100%|██████████| 456318/456318 [00:00<00:00, 932412.65B/s]\n",
      "100%|██████████| 224/224 [00:00<00:00, 72916.11B/s]\n",
      "100%|██████████| 548118077/548118077 [06:49<00:00, 1338443.09B/s]\n"
     ]
    },
    {
     "ename": "AssertionError",
     "evalue": "Torch not compiled with CUDA enabled",
     "output_type": "error",
     "traceback": [
      "\u001b[0;31m---------------------------------------------------------------------------\u001b[0m",
      "\u001b[0;31mAssertionError\u001b[0m                            Traceback (most recent call last)",
      "\u001b[0;32m<ipython-input-40-e265c089fe73>\u001b[0m in \u001b[0;36m<module>\u001b[0;34m\u001b[0m\n\u001b[1;32m     20\u001b[0m \u001b[0;34m\u001b[0m\u001b[0m\n\u001b[1;32m     21\u001b[0m \u001b[0;31m# If you have a GPU, put everything on cuda\u001b[0m\u001b[0;34m\u001b[0m\u001b[0;34m\u001b[0m\u001b[0;34m\u001b[0m\u001b[0m\n\u001b[0;32m---> 22\u001b[0;31m \u001b[0mtokens_tensor\u001b[0m \u001b[0;34m=\u001b[0m \u001b[0mtokens_tensor\u001b[0m\u001b[0;34m.\u001b[0m\u001b[0mto\u001b[0m\u001b[0;34m(\u001b[0m\u001b[0;34m'cuda'\u001b[0m\u001b[0;34m)\u001b[0m\u001b[0;34m\u001b[0m\u001b[0;34m\u001b[0m\u001b[0m\n\u001b[0m\u001b[1;32m     23\u001b[0m \u001b[0mmodel\u001b[0m\u001b[0;34m.\u001b[0m\u001b[0mto\u001b[0m\u001b[0;34m(\u001b[0m\u001b[0;34m'cuda'\u001b[0m\u001b[0;34m)\u001b[0m\u001b[0;34m\u001b[0m\u001b[0;34m\u001b[0m\u001b[0m\n\u001b[1;32m     24\u001b[0m \u001b[0;34m\u001b[0m\u001b[0m\n",
      "\u001b[0;32m/opt/anaconda3/lib/python3.7/site-packages/torch/cuda/__init__.py\u001b[0m in \u001b[0;36m_lazy_init\u001b[0;34m()\u001b[0m\n\u001b[1;32m    147\u001b[0m             raise RuntimeError(\n\u001b[1;32m    148\u001b[0m                 \"Cannot re-initialize CUDA in forked subprocess. \" + msg)\n\u001b[0;32m--> 149\u001b[0;31m         \u001b[0m_check_driver\u001b[0m\u001b[0;34m(\u001b[0m\u001b[0;34m)\u001b[0m\u001b[0;34m\u001b[0m\u001b[0;34m\u001b[0m\u001b[0m\n\u001b[0m\u001b[1;32m    150\u001b[0m         \u001b[0;32mif\u001b[0m \u001b[0m_cudart\u001b[0m \u001b[0;32mis\u001b[0m \u001b[0;32mNone\u001b[0m\u001b[0;34m:\u001b[0m\u001b[0;34m\u001b[0m\u001b[0;34m\u001b[0m\u001b[0m\n\u001b[1;32m    151\u001b[0m             raise AssertionError(\n",
      "\u001b[0;32m/opt/anaconda3/lib/python3.7/site-packages/torch/cuda/__init__.py\u001b[0m in \u001b[0;36m_check_driver\u001b[0;34m()\u001b[0m\n\u001b[1;32m     45\u001b[0m \u001b[0;32mdef\u001b[0m \u001b[0m_check_driver\u001b[0m\u001b[0;34m(\u001b[0m\u001b[0;34m)\u001b[0m\u001b[0;34m:\u001b[0m\u001b[0;34m\u001b[0m\u001b[0;34m\u001b[0m\u001b[0m\n\u001b[1;32m     46\u001b[0m     \u001b[0;32mif\u001b[0m \u001b[0;32mnot\u001b[0m \u001b[0mhasattr\u001b[0m\u001b[0;34m(\u001b[0m\u001b[0mtorch\u001b[0m\u001b[0;34m.\u001b[0m\u001b[0m_C\u001b[0m\u001b[0;34m,\u001b[0m \u001b[0;34m'_cuda_isDriverSufficient'\u001b[0m\u001b[0;34m)\u001b[0m\u001b[0;34m:\u001b[0m\u001b[0;34m\u001b[0m\u001b[0;34m\u001b[0m\u001b[0m\n\u001b[0;32m---> 47\u001b[0;31m         \u001b[0;32mraise\u001b[0m \u001b[0mAssertionError\u001b[0m\u001b[0;34m(\u001b[0m\u001b[0;34m\"Torch not compiled with CUDA enabled\"\u001b[0m\u001b[0;34m)\u001b[0m\u001b[0;34m\u001b[0m\u001b[0;34m\u001b[0m\u001b[0m\n\u001b[0m\u001b[1;32m     48\u001b[0m     \u001b[0;32mif\u001b[0m \u001b[0;32mnot\u001b[0m \u001b[0mtorch\u001b[0m\u001b[0;34m.\u001b[0m\u001b[0m_C\u001b[0m\u001b[0;34m.\u001b[0m\u001b[0m_cuda_isDriverSufficient\u001b[0m\u001b[0;34m(\u001b[0m\u001b[0;34m)\u001b[0m\u001b[0;34m:\u001b[0m\u001b[0;34m\u001b[0m\u001b[0;34m\u001b[0m\u001b[0m\n\u001b[1;32m     49\u001b[0m         \u001b[0;32mif\u001b[0m \u001b[0mtorch\u001b[0m\u001b[0;34m.\u001b[0m\u001b[0m_C\u001b[0m\u001b[0;34m.\u001b[0m\u001b[0m_cuda_getDriverVersion\u001b[0m\u001b[0;34m(\u001b[0m\u001b[0;34m)\u001b[0m \u001b[0;34m==\u001b[0m \u001b[0;36m0\u001b[0m\u001b[0;34m:\u001b[0m\u001b[0;34m\u001b[0m\u001b[0;34m\u001b[0m\u001b[0m\n",
      "\u001b[0;31mAssertionError\u001b[0m: Torch not compiled with CUDA enabled"
     ]
    }
   ],
   "source": [
    "# Import required libraries\n",
    "import torch\n",
    "from pytorch_transformers import GPT2Tokenizer, GPT2LMHeadModel\n",
    "\n",
    "# Load pre-trained model tokenizer (vocabulary)\n",
    "tokenizer = GPT2Tokenizer.from_pretrained('gpt2')\n",
    "\n",
    "# Encode a text inputs\n",
    "text = \"What is the fastest car in the\"\n",
    "indexed_tokens = tokenizer.encode(text)\n",
    "\n",
    "# Convert indexed tokens in a PyTorch tensor\n",
    "tokens_tensor = torch.tensor([indexed_tokens])\n",
    "\n",
    "# Load pre-trained model (weights)\n",
    "model = GPT2LMHeadModel.from_pretrained('gpt2')\n",
    "\n",
    "# Set the model in evaluation mode to deactivate the DropOut modules\n",
    "model.eval()\n",
    "\n",
    "# If you have a GPU, put everything on cuda\n",
    "tokens_tensor = tokens_tensor.to('cuda')\n",
    "model.to('cuda')\n",
    "\n",
    "# Predict all tokens\n",
    "with torch.no_grad():\n",
    "    outputs = model(tokens_tensor)\n",
    "    predictions = outputs[0]\n",
    "\n",
    "# Get the predicted next sub-word\n",
    "predicted_index = torch.argmax(predictions[0, -1, :]).item()\n",
    "predicted_text = tokenizer.decode(indexed_tokens + [predicted_index])\n",
    "\n",
    "# Print the predicted word\n",
    "print(predicted_text)"
   ]
  },
  {
   "cell_type": "code",
   "execution_count": null,
   "metadata": {},
   "outputs": [],
   "source": []
  }
 ],
 "metadata": {
  "kernelspec": {
   "display_name": "Python 3",
   "language": "python",
   "name": "python3"
  },
  "language_info": {
   "codemirror_mode": {
    "name": "ipython",
    "version": 3
   },
   "file_extension": ".py",
   "mimetype": "text/x-python",
   "name": "python",
   "nbconvert_exporter": "python",
   "pygments_lexer": "ipython3",
   "version": "3.7.4"
  }
 },
 "nbformat": 4,
 "nbformat_minor": 2
}
